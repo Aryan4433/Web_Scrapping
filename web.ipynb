{
 "cells": [
  {
   "cell_type": "code",
   "execution_count": 5,
   "id": "88197d62",
   "metadata": {},
   "outputs": [],
   "source": [
    "# url=\"https://www.flipkart.com/search?q=mobile%20under%2050000&otracker=search&otracker1=search&marketplace=FLIPKART&as-show=on&as=off\"\n",
    "# r=requests.get(url)"
   ]
  },
  {
   "cell_type": "code",
   "execution_count": 6,
   "id": "50ef1e33",
   "metadata": {},
   "outputs": [],
   "source": [
    "# soup = BeautifulSoup(r.text,\"html.parser\")"
   ]
  },
  {
   "cell_type": "code",
   "execution_count": 7,
   "id": "37e76ab3",
   "metadata": {},
   "outputs": [],
   "source": [
    "# while True: \n",
    "#     next= soup.find(\"a\",class_= \"_1LKTO3\").get(\"href\")\n",
    "#     print(next)\n",
    "#     cnp= \"https://www.flipkart.com\"+next\n",
    "#     print(cnp)\n",
    "    \n",
    "#     url=cnp\n",
    "#     r=requests.get(url)\n",
    "#     soup = BeautifulSoup(r.text,\"html.parser\")"
   ]
  },
  {
   "cell_type": "code",
   "execution_count": 8,
   "id": "2cd105df",
   "metadata": {},
   "outputs": [],
   "source": [
    "# for i in range(2,11):\n",
    "#     url=\"https://www.flipkart.com/search?q=mobile+under+50000&otracker=search&otracker1=search&marketplace=FLIPKART&as-show=on&as=off&page=\"+str(i)\n",
    "#     r=requests.get(url)\n",
    "#     soup = BeautifulSoup(r.text,\"html.parser\")\n",
    "#     next= soup.find(\"a\",class_= \"_1LKTO3\").get(\"href\")\n",
    "#     print(next)\n",
    "#     cnp= \"https://www.flipkart.com\"+next\n",
    "#     print(cnp)"
   ]
  }
 ],
 "metadata": {
  "kernelspec": {
   "display_name": "Python 3",
   "language": "python",
   "name": "python3"
  },
  "language_info": {
   "codemirror_mode": {
    "name": "ipython",
    "version": 3
   },
   "file_extension": ".py",
   "mimetype": "text/x-python",
   "name": "python",
   "nbconvert_exporter": "python",
   "pygments_lexer": "ipython3",
   "version": "3.8.8"
  }
 },
 "nbformat": 4,
 "nbformat_minor": 5
}
